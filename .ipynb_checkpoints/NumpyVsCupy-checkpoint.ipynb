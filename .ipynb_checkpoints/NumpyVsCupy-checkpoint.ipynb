{
 "cells": [
  {
   "cell_type": "markdown",
   "id": "ffaebfa2-4b96-41f3-87ac-62a4f92d7512",
   "metadata": {},
   "source": [
    "# NumPy vs CuPy Benchmarks\n",
    "This notebook investigates the performance improvements between the numpy and cupy libraries. The hardware used is state of the art components from top vendors.\n",
    "## Hardware:\n",
    "**CPU:** Intel Core i9-12900K <br>\n",
    "**GPU:** NVIDIA Geforce RTX 3080 "
   ]
  },
  {
   "cell_type": "code",
   "execution_count": 10,
   "id": "df6c367f-8e16-465a-9726-659756effa4f",
   "metadata": {},
   "outputs": [],
   "source": [
    "# Importing Libraries \n",
    "import numpy as np\n",
    "import cupy as cp\n",
    "import matplotlib.pyplot as plt\n",
    "import time"
   ]
  },
  {
   "cell_type": "code",
   "execution_count": 24,
   "id": "ec3b8d11-1dbb-4336-a198-51c5287e2b30",
   "metadata": {},
   "outputs": [],
   "source": [
    "# Benchmarking Functions\n",
    "def numpyBench(sz=10000):\n",
    "    # Main Computation \n",
    "    a = np.ones((sz,sz))\n",
    "    b = a*a\n",
    "    ts = time.time()\n",
    "    # Freeing Memory\n",
    "    del a,b\n",
    "    return ts\n",
    "\n",
    "def cupyBench(sz=10000):\n",
    "    # Main Computation\n",
    "    a = cp.ones((sz,sz))\n",
    "    b = a*a\n",
    "    ts = time.time()\n",
    "    # Freeing Memory \n",
    "    del a,b\n",
    "    cp._default_memory_pool.free_all_blocks()\n",
    "    return ts"
   ]
  },
  {
   "cell_type": "code",
   "execution_count": 25,
   "id": "0df6c7fe-a967-4ddb-aaaf-f0136a6e958a",
   "metadata": {},
   "outputs": [
    {
     "name": "stdout",
     "output_type": "stream",
     "text": [
      "[1, 10, 100, 1000, 10000, 11000]\n"
     ]
    }
   ],
   "source": [
    "# Size of Square Matrix N\n",
    "szs = [10**i for i in range(5)] + [(10**4)+((10**3)*(i+1)) for i in range(1)]\n",
    "print(szs)\n",
    "\n",
    "# Empty Lists of Times (Corresponding to szs)\n",
    "cpuTimes = []\n",
    "gpuTimes = []"
   ]
  },
  {
   "cell_type": "code",
   "execution_count": 26,
   "id": "6ec471aa-a535-43aa-b189-f197ace5bc1a",
   "metadata": {},
   "outputs": [
    {
     "name": "stdout",
     "output_type": "stream",
     "text": [
      "[0.0, 0.0, 0.0, 0.002998828887939453, 0.29289674758911133, 0.35010671615600586]\n",
      "[0.019032001495361328, 0.0040013790130615234, 0.0009999275207519531, 0.003000020980834961, 0.22601985931396484, 0.22906947135925293]\n"
     ]
    }
   ],
   "source": [
    "# Benchmark\n",
    "for sz in szs: \n",
    "    start = time.time()\n",
    "    cpuTimes.append(numpyBench(sz=sz)-start)\n",
    "    start = time.time()\n",
    "    \n",
    "    gpuTimes.append(cupyBench(sz=sz)-start)\n",
    "print(cpuTimes)\n",
    "print(gpuTimes)"
   ]
  }
 ],
 "metadata": {
  "kernelspec": {
   "display_name": "Python 3 (ipykernel)",
   "language": "python",
   "name": "python3"
  },
  "language_info": {
   "codemirror_mode": {
    "name": "ipython",
    "version": 3
   },
   "file_extension": ".py",
   "mimetype": "text/x-python",
   "name": "python",
   "nbconvert_exporter": "python",
   "pygments_lexer": "ipython3",
   "version": "3.11.0"
  }
 },
 "nbformat": 4,
 "nbformat_minor": 5
}
