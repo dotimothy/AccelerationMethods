{
 "cells": [
  {
   "cell_type": "markdown",
   "id": "ffaebfa2-4b96-41f3-87ac-62a4f92d7512",
   "metadata": {},
   "source": [
    "# NumPy vs CuPy Benchmarks\n",
    "This notebook investigates the performance improvements between the numpy and cupy libraries. The hardware used is state of the art components from top vendors. To test on your own hardware, you can either use the Jupyter Notebook (.ipynb) file, assuming cupy is correctly installed. Or try on Google CoLab.\n",
    "\n",
    "##  Development Hardware:\n",
    "**CPU:** Intel Core i9-12900K <br>\n",
    "**GPU:** NVIDIA Geforce RTX 3080 <br>\n",
    "\n",
    "<a target=\"_blank\" href=\"https://colab.research.google.com/github/dotimothy/AccelerationMethods/blob/main/NumpyVsCupy.ipynb\">\n",
    "    <img src=\"https://colab.research.google.com/assets/colab-badge.svg\" alt=\"Open In Colab\"/>\n",
    "</a>  "
   ]
  },
  {
   "cell_type": "markdown",
   "id": "098c940a-3017-4999-814b-50f2f4a0bb44",
   "metadata": {},
   "source": []
  },
  {
   "cell_type": "code",
   "execution_count": 5,
   "id": "4634bdfa-1a3d-4845-8388-802285dd56af",
   "metadata": {},
   "outputs": [],
   "source": [
    "# CoLab Check. If In CoLab then install some dependencies.\n",
    "try:\n",
    "  import google.colab\n",
    "  IN_COLAB = True\n",
    "except:\n",
    "  IN_COLAB = False\n",
    "if(IN_COLAB):\n",
    "    !pip instal cupy-cuda12x"
   ]
  },
  {
   "cell_type": "code",
   "execution_count": 2,
   "id": "df6c367f-8e16-465a-9726-659756effa4f",
   "metadata": {},
   "outputs": [],
   "source": [
    "# Importing Libraries \n",
    "import numpy as np\n",
    "import cupy as cp\n",
    "import matplotlib.pyplot as plt\n",
    "import time\n",
    "import cpuinfo\n",
    "import GPUtil"
   ]
  },
  {
   "cell_type": "code",
   "execution_count": 3,
   "id": "ec3b8d11-1dbb-4336-a198-51c5287e2b30",
   "metadata": {},
   "outputs": [],
   "source": [
    "# Logistic Functions\n",
    "def getCPUName():\n",
    "    return cpuinfo.cpu.info[0]['model name']\n",
    "\n",
    "def getGPUName():\n",
    "    gpus = GPUtil.getGPUs()\n",
    "    return gpus[0].name\n",
    "\n",
    "# Benchmarking Functions\n",
    "def numpyBench(sz=10000):\n",
    "    # Main Computation \n",
    "    a = np.ones((sz,sz))\n",
    "    b = a*a\n",
    "    ts = time.time()\n",
    "    # Freeing Memory\n",
    "    del a,b\n",
    "    return ts\n",
    "\n",
    "def cupyBench(sz=10000):\n",
    "    # Main Computation\n",
    "    a = cp.ones((sz,sz))\n",
    "    b = a*a\n",
    "    ts = time.time()\n",
    "    # Freeing Memory \n",
    "    del a,b\n",
    "    cp._default_memory_pool.free_all_blocks()\n",
    "    return ts"
   ]
  },
  {
   "cell_type": "code",
   "execution_count": 4,
   "id": "0df6c7fe-a967-4ddb-aaaf-f0136a6e958a",
   "metadata": {
    "scrolled": true
   },
   "outputs": [
    {
     "ename": "AttributeError",
     "evalue": "module 'cpuinfo' has no attribute 'cpu'",
     "output_type": "error",
     "traceback": [
      "\u001b[1;31m---------------------------------------------------------------------------\u001b[0m",
      "\u001b[1;31mAttributeError\u001b[0m                            Traceback (most recent call last)",
      "Cell \u001b[1;32mIn[4], line 2\u001b[0m\n\u001b[0;32m      1\u001b[0m \u001b[38;5;66;03m# Getting Hardware Info\u001b[39;00m\n\u001b[1;32m----> 2\u001b[0m cpuName \u001b[38;5;241m=\u001b[39m \u001b[43mgetCPUName\u001b[49m\u001b[43m(\u001b[49m\u001b[43m)\u001b[49m\n\u001b[0;32m      3\u001b[0m gpuName \u001b[38;5;241m=\u001b[39m getGPUName()\n\u001b[0;32m      5\u001b[0m \u001b[38;5;66;03m# Size of Square Matrix N\u001b[39;00m\n",
      "Cell \u001b[1;32mIn[3], line 3\u001b[0m, in \u001b[0;36mgetCPUName\u001b[1;34m()\u001b[0m\n\u001b[0;32m      2\u001b[0m \u001b[38;5;28;01mdef\u001b[39;00m \u001b[38;5;21mgetCPUName\u001b[39m():\n\u001b[1;32m----> 3\u001b[0m     \u001b[38;5;28;01mreturn\u001b[39;00m \u001b[43mcpuinfo\u001b[49m\u001b[38;5;241;43m.\u001b[39;49m\u001b[43mcpu\u001b[49m\u001b[38;5;241m.\u001b[39minfo[\u001b[38;5;241m0\u001b[39m][\u001b[38;5;124m'\u001b[39m\u001b[38;5;124mmodel name\u001b[39m\u001b[38;5;124m'\u001b[39m]\n",
      "\u001b[1;31mAttributeError\u001b[0m: module 'cpuinfo' has no attribute 'cpu'"
     ]
    }
   ],
   "source": [
    "# Getting Hardware Info\n",
    "cpuName = getCPUName()\n",
    "gpuName = getGPUName()\n",
    "\n",
    "# Size of Square Matrix N\n",
    "szs = [(10**i)+(10**(i))*j for i in range(5) for j in range(9)]\n",
    "szs = [sz for sz in szs if sz<30000]\n",
    "\n",
    "# Empty Lists of Times (Corresponding to szs)\n",
    "cpuTimes = []\n",
    "gpuTimes = []"
   ]
  },
  {
   "cell_type": "code",
   "execution_count": null,
   "id": "6ec471aa-a535-43aa-b189-f197ace5bc1a",
   "metadata": {},
   "outputs": [],
   "source": [
    "# Benchmark\n",
    "for sz in szs: \n",
    "    start = time.time()\n",
    "    cpuTimes.append(numpyBench(sz=sz)-start)\n",
    "    start = time.time()\n",
    "    gpuTimes.append(cupyBench(sz=sz)-start)"
   ]
  },
  {
   "cell_type": "markdown",
   "id": "0fc4aa35-5006-44ba-b72b-ca5c7b041363",
   "metadata": {},
   "source": [
    "# Plot the Results\n",
    "plt.figure()\n",
    "plt.plot(szs,cpuTimes,'blue')\n",
    "plt.plot(szs,gpuTimes,'green')\n",
    "plt.grid()\n",
    "xlabel = plt.xlabel('Matrix Size (N)')\n",
    "ylabel = plt.ylabel('Computation Time (s)')\n",
    "xscale = plt.xscale('linear')\n",
    "yscale = plt.yscale('linear')\n",
    "title = plt.title('Matrix Multiplication Size vs. Computation Time')\n",
    "legend = plt.legend([cpuName,gpuName()])"
   ]
  }
 ],
 "metadata": {
  "kernelspec": {
   "display_name": "Python 3 (ipykernel)",
   "language": "python",
   "name": "python3"
  },
  "language_info": {
   "codemirror_mode": {
    "name": "ipython",
    "version": 3
   },
   "file_extension": ".py",
   "mimetype": "text/x-python",
   "name": "python",
   "nbconvert_exporter": "python",
   "pygments_lexer": "ipython3",
   "version": "3.11.0"
  }
 },
 "nbformat": 4,
 "nbformat_minor": 5
}
