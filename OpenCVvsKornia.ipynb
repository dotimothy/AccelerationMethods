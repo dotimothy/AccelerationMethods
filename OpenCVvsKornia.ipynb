{
 "cells": [
  {
   "cell_type": "markdown",
   "metadata": {},
   "source": [
    "# OpenCV vs Kornia (CPU vs GPU) Computer Vision Benchmarks\n",
    "This notebook investigates the performance improvements between the OpenCV and Kornia libraries. Kornia is a library that relies on GPU in order to accelerate differntiable computer vision tasks. In the backend, it uses Pytorch and represents computer vision tasks as computational graphs to accelerate them on GPUs.\n",
    "\n",
    "##  Local Development Hardware:\n",
    "**CPU:** Intel Core i9-12900K <br>\n",
    "**GPU:** NVIDIA Geforce RTX 3090 <br>\n",
    "\n",
    "<a target=\"_blank\" href=\"https://colab.research.google.com/github/dotimothy/AccelerationMethods/blob/main/OpenCVvsKornia.ipynb\">\n",
    "    <img src=\"https://colab.research.google.com/assets/colab-badge.svg\" alt=\"Open In Colab\"/>\n",
    "</a>  "
   ]
  },
  {
   "cell_type": "code",
   "execution_count": null,
   "metadata": {},
   "outputs": [],
   "source": []
  }
 ],
 "metadata": {
  "kernelspec": {
   "display_name": "env",
   "language": "python",
   "name": "python3"
  },
  "language_info": {
   "codemirror_mode": {
    "name": "ipython",
    "version": 3
   },
   "file_extension": ".py",
   "mimetype": "text/x-python",
   "name": "python",
   "nbconvert_exporter": "python",
   "pygments_lexer": "ipython3",
   "version": "3.9.6"
  }
 },
 "nbformat": 4,
 "nbformat_minor": 2
}
